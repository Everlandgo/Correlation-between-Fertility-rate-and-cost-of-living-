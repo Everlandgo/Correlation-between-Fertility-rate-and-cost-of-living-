{
 "cells": [
  {
   "cell_type": "markdown",
   "id": "bb44bbe6",
   "metadata": {},
   "source": [
    "# Fertility rate & cost of living \n"
   ]
  },
  {
   "cell_type": "markdown",
   "id": "b7dde4b3",
   "metadata": {},
   "source": [
    "## Introduction\n",
    "Previously, I have been seeing a lot of news and articles indicating that South Korea has one of the lowest total fertility rates in the world(Bae & Yeung, 2022). This news and articles pointed out the high living cost as one of the reasons for this result. So, a question rose to me, whether all the countries with high living expenses have low fertility rates and whether the fertility rate correlates to living expenses.\n"
   ]
  },
  {
   "cell_type": "markdown",
   "id": "706ad45d",
   "metadata": {},
   "source": [
    "## Background \n",
    "\n",
    "The fertility rate worldwide has been decreasing. Over the last 70 years, the fertility rate decreased by 50% worldwide (Alvarez,2022). Until 1965, a woman in the world has given birth to five children or more. From then the fertility rate started to decrease(Alvarez,2022). Now the average woman in the world gives birth to less than three children. According to Alvarez(2022), the reasons for the decrease in the fertility rate are:\n",
    "<ul>\n",
    "    <li>Women’s empowerment, particularly in education and the workforce</li>\n",
    "    <li>Lower child mortality</li>\n",
    "    <li>Increased cost to raising children</li>\n",
    "</ul>\n",
    "\n",
    "The worst case of the decline in the fertility rate is South Korea. Since the year 2015, the birth rate in the country has been dropping dramatically(Bae & Yeung, 2022). This came to the current state, where the country has a higher death rate than the birth rate(Mao,2022). Experts cited higher living costs, a spike in house costs and the effect of the Covid Pandemic had led to discouragement of having children (Mao,2022).\n"
   ]
  },
  {
   "cell_type": "markdown",
   "id": "dcf28361",
   "metadata": {},
   "source": [
    "Birth rate and fertility are two different measurements.\n",
    "<ul>\n",
    "    <li>Birth Rate - Total number of births in a year per 1,000 individuals.</li>\n",
    "    <li>Fertility Rate - Total number of children that would be born  to a woman of reproductive age in a population in a year per 1,000 women .</li>\n",
    "</ul>"
   ]
  },
  {
   "cell_type": "markdown",
   "id": "f8e8a9b8",
   "metadata": {},
   "source": [
    "## Aim and Objectives\n",
    "\n",
    "<h4>Aim:</h4> \n",
    "        The main aim of this research is to find whether all the countries with high living indexes have low fertility rates and whether fertility rates correlate to living expenses.\n",
    "\n",
    "<h4>Objectives:</h4> \n",
    "    <ul>\n",
    "        <li>Determine whether all the countries with a high cost of living have a low fertility rate</li>\n",
    "        <li>Determine whether fertility rate and living expenses correlate with each other </li>\n",
    "        <li>Find the countries that meet the baseline of the high cost of living</li>\n",
    "        <li>Compare the countries with high living expenses and their fertility rate to the average fertility rate yearly (2015-2020)</li>\n",
    "        <li>Plot graphs to show the difference between the country's fertility rate and the average fertility rate </li> \n",
    "    </ul> \n",
    "    \n",
    "    \n",
    "#### Hypothesis \n",
    "<ol>\n",
    "    <li>All the countries with a high cost of living have a low fertility rate</li>\n",
    "    <li>Fertility rate and living expenses correlate with each other</li>\n",
    "</ol>\n"
   ]
  },
  {
   "cell_type": "markdown",
   "id": "03987f81",
   "metadata": {},
   "source": [
    "## Data\n",
    "For this research two datasets are going to be used. One dataset consists of the cost of living index around the world. The other dataset consists of fertility rates by country. For this project, I would focus on the specific period from 2015 to 2020. \n",
    "\n",
    "#### Data Source\n",
    "<ol>\n",
    "    <li>Cost of Living Index by Country - retrieved from : https://www.numbeo.com/cost-of-living/rankings_by_country.jsp</li>\n",
    "    <li>Fertility rates - retrieved from : https://data.oecd.org/pop/fertility-rates.htm</li>\n",
    "</ol>\n",
    "    \n",
    "#### Ethics of use of data \n",
    "<ul>\n",
    "    <li>Data source(1): From https://www.numbeo.com. The website's Term of use states 'Use of Numbeo data is free for personal use' </li>\n",
    "    <li>Data source(2): From https://data.oecd.org/. The website's Terms and Conditions stated 'The OECD encourages the use of its data' </li>\n",
    "</ul>   \n"
   ]
  },
  {
   "cell_type": "code",
   "execution_count": 1,
   "id": "746265e6",
   "metadata": {},
   "outputs": [],
   "source": [
    "# installing packages required\n",
    "from bs4 import *\n",
    "import urllib3\n",
    "import pandas as pd\n",
    "import numpy as np\n",
    "import matplotlib.pyplot as plt\n",
    "import seaborn as sns\n",
    "from sklearn.datasets import load_iris"
   ]
  },
  {
   "cell_type": "markdown",
   "id": "fd6d604a",
   "metadata": {},
   "source": [
    "### Web scraping - To retrieve the dataset for cost of living by country (2015~2020)"
   ]
  },
  {
   "cell_type": "markdown",
   "id": "4272745a",
   "metadata": {},
   "source": [
    "Data about cost of living is web scraped from Data Source[1]. \n",
    "\n",
    "The table on the website does not include year column, so a column is added to store which year the data is from. Another column called 'ranking' is added, it would store the actual position of the row in the table since the rank column is scraped as nothing. "
   ]
  },
  {
   "cell_type": "code",
   "execution_count": 2,
   "id": "088f87b2",
   "metadata": {},
   "outputs": [
    {
     "data": {
      "text/html": [
       "<div>\n",
       "<style scoped>\n",
       "    .dataframe tbody tr th:only-of-type {\n",
       "        vertical-align: middle;\n",
       "    }\n",
       "\n",
       "    .dataframe tbody tr th {\n",
       "        vertical-align: top;\n",
       "    }\n",
       "\n",
       "    .dataframe thead th {\n",
       "        text-align: right;\n",
       "    }\n",
       "</style>\n",
       "<table border=\"1\" class=\"dataframe\">\n",
       "  <thead>\n",
       "    <tr style=\"text-align: right;\">\n",
       "      <th></th>\n",
       "      <th>Rank</th>\n",
       "      <th>Country</th>\n",
       "      <th>Cost of Living Index</th>\n",
       "      <th>Rent Index</th>\n",
       "      <th>Cost of Living Plus Rent Index</th>\n",
       "      <th>Groceries Index</th>\n",
       "      <th>Restaurant Price Index</th>\n",
       "      <th>Local Purchasing Power Index</th>\n",
       "      <th>Year</th>\n",
       "      <th>Ranking</th>\n",
       "    </tr>\n",
       "  </thead>\n",
       "  <tbody>\n",
       "    <tr>\n",
       "      <th>0</th>\n",
       "      <td></td>\n",
       "      <td>Switzerland</td>\n",
       "      <td>126.0</td>\n",
       "      <td>57.6</td>\n",
       "      <td>92.6</td>\n",
       "      <td>128.4</td>\n",
       "      <td>127.6</td>\n",
       "      <td>146.5</td>\n",
       "      <td>2015</td>\n",
       "      <td>1</td>\n",
       "    </tr>\n",
       "    <tr>\n",
       "      <th>1</th>\n",
       "      <td></td>\n",
       "      <td>Norway</td>\n",
       "      <td>118.6</td>\n",
       "      <td>48.7</td>\n",
       "      <td>84.4</td>\n",
       "      <td>110.1</td>\n",
       "      <td>141.5</td>\n",
       "      <td>96.3</td>\n",
       "      <td>2015</td>\n",
       "      <td>2</td>\n",
       "    </tr>\n",
       "    <tr>\n",
       "      <th>2</th>\n",
       "      <td></td>\n",
       "      <td>Venezuela</td>\n",
       "      <td>111.0</td>\n",
       "      <td>34.1</td>\n",
       "      <td>73.4</td>\n",
       "      <td>128.4</td>\n",
       "      <td>91.1</td>\n",
       "      <td>11.9</td>\n",
       "      <td>2015</td>\n",
       "      <td>3</td>\n",
       "    </tr>\n",
       "  </tbody>\n",
       "</table>\n",
       "</div>"
      ],
      "text/plain": [
       "  Rank      Country Cost of Living Index Rent Index  \\\n",
       "0       Switzerland                126.0       57.6   \n",
       "1            Norway                118.6       48.7   \n",
       "2         Venezuela                111.0       34.1   \n",
       "\n",
       "  Cost of Living Plus Rent Index Groceries Index Restaurant Price Index  \\\n",
       "0                           92.6           128.4                  127.6   \n",
       "1                           84.4           110.1                  141.5   \n",
       "2                           73.4           128.4                   91.1   \n",
       "\n",
       "  Local Purchasing Power Index  Year  Ranking  \n",
       "0                        146.5  2015        1  \n",
       "1                         96.3  2015        2  \n",
       "2                         11.9  2015        3  "
      ]
     },
     "execution_count": 2,
     "metadata": {},
     "output_type": "execute_result"
    }
   ],
   "source": [
    "#web scraping cost of living dataset\n",
    "data=[]\n",
    "years = np.arange(2015, 2021, 1)\n",
    "for year in years:\n",
    "    url =\"https://www.numbeo.com/cost-of-living/rankings_by_country.jsp?title=\"+str(year)\n",
    "    http=urllib3.PoolManager()\n",
    "    response=http.request('GET',url)\n",
    "    soup=BeautifulSoup(response.data,\"lxml\")\n",
    "    table_body=soup.find(\"tbody\")\n",
    "    ranking=0\n",
    "    for row in table_body.find_all(\"tr\"): \n",
    "        col=row.find_all(\"td\")\n",
    "        col=[ele.text.strip() for ele in col]\n",
    "        ranking+=1\n",
    "        col.append(year)\n",
    "        col.append(ranking)\n",
    "        data.append(col)\n",
    "\n",
    "        # web scraping table headers\n",
    "headers=[]\n",
    "table=soup.find('table',{'id':\"t2\"})\n",
    "for x in table.find_all(\"tr\"):\n",
    "    for y in x.find_all(\"th\"):\n",
    "        headers.append(y.text)\n",
    "headers.append(\"Year\")\n",
    "headers.append(\"Ranking\")\n",
    "\n",
    "#Creating datafram of living_expenses \n",
    "cost_of_living=pd.DataFrame(data,columns=headers)\n",
    "\n",
    "# To show how the dataframe looks like \n",
    "cost_of_living.head(3)"
   ]
  },
  {
   "cell_type": "code",
   "execution_count": 3,
   "id": "87874e64",
   "metadata": {},
   "outputs": [
    {
     "name": "stdout",
     "output_type": "stream",
     "text": [
      "<class 'pandas.core.frame.DataFrame'>\n",
      "RangeIndex: 728 entries, 0 to 727\n",
      "Data columns (total 10 columns):\n",
      " #   Column                          Non-Null Count  Dtype \n",
      "---  ------                          --------------  ----- \n",
      " 0   Rank                            728 non-null    object\n",
      " 1   Country                         728 non-null    object\n",
      " 2   Cost of Living Index            728 non-null    object\n",
      " 3   Rent Index                      728 non-null    object\n",
      " 4   Cost of Living Plus Rent Index  728 non-null    object\n",
      " 5   Groceries Index                 728 non-null    object\n",
      " 6   Restaurant Price Index          728 non-null    object\n",
      " 7   Local Purchasing Power Index    728 non-null    object\n",
      " 8   Year                            728 non-null    int64 \n",
      " 9   Ranking                         728 non-null    int64 \n",
      "dtypes: int64(2), object(8)\n",
      "memory usage: 57.0+ KB\n"
     ]
    }
   ],
   "source": [
    "# To get details of the dataframe\n",
    "cost_of_living.info()"
   ]
  },
  {
   "cell_type": "markdown",
   "id": "13c854f2",
   "metadata": {},
   "source": [
    "### Reading csv file -  To retrieve the dataset for fertility rate by country  "
   ]
  },
  {
   "cell_type": "markdown",
   "id": "d1e4cedf",
   "metadata": {},
   "source": [
    "The data of fertility rate by country is downloaded from Data Source[2] as a csv file. These data are then stored in a dataframe for future use. "
   ]
  },
  {
   "cell_type": "code",
   "execution_count": 5,
   "id": "36ca6225",
   "metadata": {},
   "outputs": [
    {
     "data": {
      "text/html": [
       "<div>\n",
       "<style scoped>\n",
       "    .dataframe tbody tr th:only-of-type {\n",
       "        vertical-align: middle;\n",
       "    }\n",
       "\n",
       "    .dataframe tbody tr th {\n",
       "        vertical-align: top;\n",
       "    }\n",
       "\n",
       "    .dataframe thead th {\n",
       "        text-align: right;\n",
       "    }\n",
       "</style>\n",
       "<table border=\"1\" class=\"dataframe\">\n",
       "  <thead>\n",
       "    <tr style=\"text-align: right;\">\n",
       "      <th></th>\n",
       "      <th>Entity</th>\n",
       "      <th>Code</th>\n",
       "      <th>Year</th>\n",
       "      <th>Fertility rate - Sex: all - Age: all - Variant: estimates</th>\n",
       "    </tr>\n",
       "  </thead>\n",
       "  <tbody>\n",
       "    <tr>\n",
       "      <th>0</th>\n",
       "      <td>Afghanistan</td>\n",
       "      <td>AFG</td>\n",
       "      <td>1950</td>\n",
       "      <td>7.2484</td>\n",
       "    </tr>\n",
       "    <tr>\n",
       "      <th>1</th>\n",
       "      <td>Afghanistan</td>\n",
       "      <td>AFG</td>\n",
       "      <td>1951</td>\n",
       "      <td>7.2596</td>\n",
       "    </tr>\n",
       "    <tr>\n",
       "      <th>2</th>\n",
       "      <td>Afghanistan</td>\n",
       "      <td>AFG</td>\n",
       "      <td>1952</td>\n",
       "      <td>7.2601</td>\n",
       "    </tr>\n",
       "    <tr>\n",
       "      <th>3</th>\n",
       "      <td>Afghanistan</td>\n",
       "      <td>AFG</td>\n",
       "      <td>1953</td>\n",
       "      <td>7.2662</td>\n",
       "    </tr>\n",
       "    <tr>\n",
       "      <th>4</th>\n",
       "      <td>Afghanistan</td>\n",
       "      <td>AFG</td>\n",
       "      <td>1954</td>\n",
       "      <td>7.2542</td>\n",
       "    </tr>\n",
       "  </tbody>\n",
       "</table>\n",
       "</div>"
      ],
      "text/plain": [
       "        Entity Code  Year  \\\n",
       "0  Afghanistan  AFG  1950   \n",
       "1  Afghanistan  AFG  1951   \n",
       "2  Afghanistan  AFG  1952   \n",
       "3  Afghanistan  AFG  1953   \n",
       "4  Afghanistan  AFG  1954   \n",
       "\n",
       "   Fertility rate - Sex: all - Age: all - Variant: estimates  \n",
       "0                                             7.2484          \n",
       "1                                             7.2596          \n",
       "2                                             7.2601          \n",
       "3                                             7.2662          \n",
       "4                                             7.2542          "
      ]
     },
     "execution_count": 5,
     "metadata": {},
     "output_type": "execute_result"
    }
   ],
   "source": [
    "#Store data to dataframe \n",
    "fertility_rate = pd.read_csv('children-per-woman-UN.csv')\n",
    "fertility_rate.head(5)"
   ]
  },
  {
   "cell_type": "code",
   "execution_count": 6,
   "id": "2c2bb815",
   "metadata": {},
   "outputs": [
    {
     "name": "stdout",
     "output_type": "stream",
     "text": [
      "<class 'pandas.core.frame.DataFrame'>\n",
      "RangeIndex: 18360 entries, 0 to 18359\n",
      "Data columns (total 4 columns):\n",
      " #   Column                                                     Non-Null Count  Dtype  \n",
      "---  ------                                                     --------------  -----  \n",
      " 0   Entity                                                     18360 non-null  object \n",
      " 1   Code                                                       17064 non-null  object \n",
      " 2   Year                                                       18360 non-null  int64  \n",
      " 3   Fertility rate - Sex: all - Age: all - Variant: estimates  18360 non-null  float64\n",
      "dtypes: float64(1), int64(1), object(2)\n",
      "memory usage: 573.9+ KB\n"
     ]
    }
   ],
   "source": [
    "#Get details of the dataframe\n",
    "fertility_rate.info()"
   ]
  },
  {
   "cell_type": "code",
   "execution_count": 7,
   "id": "cf9ade96",
   "metadata": {},
   "outputs": [
    {
     "data": {
      "text/html": [
       "<div>\n",
       "<style scoped>\n",
       "    .dataframe tbody tr th:only-of-type {\n",
       "        vertical-align: middle;\n",
       "    }\n",
       "\n",
       "    .dataframe tbody tr th {\n",
       "        vertical-align: top;\n",
       "    }\n",
       "\n",
       "    .dataframe thead th {\n",
       "        text-align: right;\n",
       "    }\n",
       "</style>\n",
       "<table border=\"1\" class=\"dataframe\">\n",
       "  <thead>\n",
       "    <tr style=\"text-align: right;\">\n",
       "      <th></th>\n",
       "      <th>Year</th>\n",
       "      <th>Fertility rate - Sex: all - Age: all - Variant: estimates</th>\n",
       "    </tr>\n",
       "  </thead>\n",
       "  <tbody>\n",
       "    <tr>\n",
       "      <th>count</th>\n",
       "      <td>18360.000000</td>\n",
       "      <td>18360.000000</td>\n",
       "    </tr>\n",
       "    <tr>\n",
       "      <th>mean</th>\n",
       "      <td>1985.500000</td>\n",
       "      <td>4.015418</td>\n",
       "    </tr>\n",
       "    <tr>\n",
       "      <th>std</th>\n",
       "      <td>20.783171</td>\n",
       "      <td>2.000740</td>\n",
       "    </tr>\n",
       "    <tr>\n",
       "      <th>min</th>\n",
       "      <td>1950.000000</td>\n",
       "      <td>0.745500</td>\n",
       "    </tr>\n",
       "    <tr>\n",
       "      <th>25%</th>\n",
       "      <td>1967.750000</td>\n",
       "      <td>2.174350</td>\n",
       "    </tr>\n",
       "    <tr>\n",
       "      <th>50%</th>\n",
       "      <td>1985.500000</td>\n",
       "      <td>3.619250</td>\n",
       "    </tr>\n",
       "    <tr>\n",
       "      <th>75%</th>\n",
       "      <td>2003.250000</td>\n",
       "      <td>5.925125</td>\n",
       "    </tr>\n",
       "    <tr>\n",
       "      <th>max</th>\n",
       "      <td>2021.000000</td>\n",
       "      <td>8.863700</td>\n",
       "    </tr>\n",
       "  </tbody>\n",
       "</table>\n",
       "</div>"
      ],
      "text/plain": [
       "               Year  Fertility rate - Sex: all - Age: all - Variant: estimates\n",
       "count  18360.000000                                       18360.000000        \n",
       "mean    1985.500000                                           4.015418        \n",
       "std       20.783171                                           2.000740        \n",
       "min     1950.000000                                           0.745500        \n",
       "25%     1967.750000                                           2.174350        \n",
       "50%     1985.500000                                           3.619250        \n",
       "75%     2003.250000                                           5.925125        \n",
       "max     2021.000000                                           8.863700        "
      ]
     },
     "execution_count": 7,
     "metadata": {},
     "output_type": "execute_result"
    }
   ],
   "source": [
    "fertility_rate.describe()"
   ]
  },
  {
   "cell_type": "markdown",
   "id": "a20f6fb7",
   "metadata": {},
   "source": [
    "### Data cleaning for dataset1 (living_expenses)"
   ]
  },
  {
   "cell_type": "code",
   "execution_count": 8,
   "id": "741dc3d0",
   "metadata": {},
   "outputs": [
    {
     "data": {
      "text/html": [
       "<div>\n",
       "<style scoped>\n",
       "    .dataframe tbody tr th:only-of-type {\n",
       "        vertical-align: middle;\n",
       "    }\n",
       "\n",
       "    .dataframe tbody tr th {\n",
       "        vertical-align: top;\n",
       "    }\n",
       "\n",
       "    .dataframe thead th {\n",
       "        text-align: right;\n",
       "    }\n",
       "</style>\n",
       "<table border=\"1\" class=\"dataframe\">\n",
       "  <thead>\n",
       "    <tr style=\"text-align: right;\">\n",
       "      <th></th>\n",
       "      <th>Rank</th>\n",
       "      <th>Country</th>\n",
       "      <th>Cost of Living Index</th>\n",
       "      <th>Year</th>\n",
       "    </tr>\n",
       "  </thead>\n",
       "  <tbody>\n",
       "    <tr>\n",
       "      <th>0</th>\n",
       "      <td>1</td>\n",
       "      <td>Switzerland</td>\n",
       "      <td>126.0</td>\n",
       "      <td>2015</td>\n",
       "    </tr>\n",
       "    <tr>\n",
       "      <th>1</th>\n",
       "      <td>2</td>\n",
       "      <td>Norway</td>\n",
       "      <td>118.6</td>\n",
       "      <td>2015</td>\n",
       "    </tr>\n",
       "    <tr>\n",
       "      <th>2</th>\n",
       "      <td>3</td>\n",
       "      <td>Venezuela</td>\n",
       "      <td>111.0</td>\n",
       "      <td>2015</td>\n",
       "    </tr>\n",
       "    <tr>\n",
       "      <th>3</th>\n",
       "      <td>4</td>\n",
       "      <td>Iceland</td>\n",
       "      <td>102.1</td>\n",
       "      <td>2015</td>\n",
       "    </tr>\n",
       "    <tr>\n",
       "      <th>4</th>\n",
       "      <td>5</td>\n",
       "      <td>Denmark</td>\n",
       "      <td>100.6</td>\n",
       "      <td>2015</td>\n",
       "    </tr>\n",
       "    <tr>\n",
       "      <th>...</th>\n",
       "      <td>...</td>\n",
       "      <td>...</td>\n",
       "      <td>...</td>\n",
       "      <td>...</td>\n",
       "    </tr>\n",
       "    <tr>\n",
       "      <th>723</th>\n",
       "      <td>128</td>\n",
       "      <td>Uzbekistan</td>\n",
       "      <td>26.0</td>\n",
       "      <td>2020</td>\n",
       "    </tr>\n",
       "    <tr>\n",
       "      <th>724</th>\n",
       "      <td>129</td>\n",
       "      <td>Syria</td>\n",
       "      <td>25.3</td>\n",
       "      <td>2020</td>\n",
       "    </tr>\n",
       "    <tr>\n",
       "      <th>725</th>\n",
       "      <td>130</td>\n",
       "      <td>India</td>\n",
       "      <td>24.6</td>\n",
       "      <td>2020</td>\n",
       "    </tr>\n",
       "    <tr>\n",
       "      <th>726</th>\n",
       "      <td>131</td>\n",
       "      <td>Afghanistan</td>\n",
       "      <td>24.2</td>\n",
       "      <td>2020</td>\n",
       "    </tr>\n",
       "    <tr>\n",
       "      <th>727</th>\n",
       "      <td>132</td>\n",
       "      <td>Pakistan</td>\n",
       "      <td>22.0</td>\n",
       "      <td>2020</td>\n",
       "    </tr>\n",
       "  </tbody>\n",
       "</table>\n",
       "<p>728 rows × 4 columns</p>\n",
       "</div>"
      ],
      "text/plain": [
       "     Rank      Country Cost of Living Index  Year\n",
       "0       1  Switzerland                126.0  2015\n",
       "1       2       Norway                118.6  2015\n",
       "2       3    Venezuela                111.0  2015\n",
       "3       4      Iceland                102.1  2015\n",
       "4       5      Denmark                100.6  2015\n",
       "..    ...          ...                  ...   ...\n",
       "723   128   Uzbekistan                 26.0  2020\n",
       "724   129        Syria                 25.3  2020\n",
       "725   130        India                 24.6  2020\n",
       "726   131  Afghanistan                 24.2  2020\n",
       "727   132     Pakistan                 22.0  2020\n",
       "\n",
       "[728 rows x 4 columns]"
      ]
     },
     "execution_count": 8,
     "metadata": {},
     "output_type": "execute_result"
    }
   ],
   "source": [
    "# The rank column displays nothing, so the ranking column would replace the rank column \n",
    "cost_of_living.Rank = cost_of_living.Ranking\n",
    "\n",
    "# deleting all the rows that are not required\n",
    "delelist=['Rent Index','Cost of Living Plus Rent Index','Groceries Index','Restaurant Price Index','Local Purchasing Power Index']\n",
    "for x in delelist: \n",
    "     cost_of_living.drop(x, inplace=True, axis=1)\n",
    "\n",
    "#rearranging the dataframe sequence\n",
    "sequence = ['Rank','Country', 'Cost of Living Index','Year']\n",
    "cost_of_living = cost_of_living.reindex(columns=sequence)\n",
    "\n",
    "# droping any row that has NaN \n",
    "cost_of_living.dropna(inplace = True)\n",
    "cost_of_living"
   ]
  },
  {
   "cell_type": "markdown",
   "id": "9610b015",
   "metadata": {},
   "source": [
    "### Data cleaning for dataset2 (fertility_rate)"
   ]
  },
  {
   "cell_type": "code",
   "execution_count": 10,
   "id": "872a6f3b",
   "metadata": {},
   "outputs": [],
   "source": [
    "#changing the column name from Entity to country \n",
    "fertility_rate.rename(columns={'Entity':'Country','Fertility rate - Sex: all - Age: all - Variant: estimates':'Fertility rate'}, inplace = True)\n",
    "\n",
    "# droping all the data that are not in the period of 2015 and 2020 \n",
    "fertility_rate.drop(fertility_rate[fertility_rate['Year']<2015].index, inplace = True)\n",
    "fertility_rate.drop(fertility_rate[fertility_rate['Year']>2020].index, inplace = True)\n",
    "\n",
    "# Creating dataframe for data of continents\n",
    "# Antartica is excluded as it is not habitat of humans \n",
    "options = ['Asia', 'Africa', 'Northern America', 'Latin America and the Caribbean', 'Oceania', 'Europe']\n",
    "continent_df=pd.DataFrame(fertility_rate[fertility_rate['Country'].isin(options)])\n",
    "continent_df = continent_df.drop('Code', axis=1)\n",
    "\n",
    "# Deleting all the data where column 'Code' contains nothing as it is not a data of a country\n",
    "fertility_rate = fertility_rate.dropna(subset=['Code'])"
   ]
  },
  {
   "cell_type": "code",
   "execution_count": 11,
   "id": "c9798718",
   "metadata": {},
   "outputs": [
    {
     "data": {
      "text/html": [
       "<div>\n",
       "<style scoped>\n",
       "    .dataframe tbody tr th:only-of-type {\n",
       "        vertical-align: middle;\n",
       "    }\n",
       "\n",
       "    .dataframe tbody tr th {\n",
       "        vertical-align: top;\n",
       "    }\n",
       "\n",
       "    .dataframe thead th {\n",
       "        text-align: right;\n",
       "    }\n",
       "</style>\n",
       "<table border=\"1\" class=\"dataframe\">\n",
       "  <thead>\n",
       "    <tr style=\"text-align: right;\">\n",
       "      <th></th>\n",
       "      <th>Country</th>\n",
       "      <th>Code</th>\n",
       "      <th>Year</th>\n",
       "      <th>Fertility rate</th>\n",
       "    </tr>\n",
       "  </thead>\n",
       "  <tbody>\n",
       "    <tr>\n",
       "      <th>65</th>\n",
       "      <td>Afghanistan</td>\n",
       "      <td>AFG</td>\n",
       "      <td>2015</td>\n",
       "      <td>5.4052</td>\n",
       "    </tr>\n",
       "    <tr>\n",
       "      <th>66</th>\n",
       "      <td>Afghanistan</td>\n",
       "      <td>AFG</td>\n",
       "      <td>2016</td>\n",
       "      <td>5.2618</td>\n",
       "    </tr>\n",
       "    <tr>\n",
       "      <th>67</th>\n",
       "      <td>Afghanistan</td>\n",
       "      <td>AFG</td>\n",
       "      <td>2017</td>\n",
       "      <td>5.1290</td>\n",
       "    </tr>\n",
       "    <tr>\n",
       "      <th>68</th>\n",
       "      <td>Afghanistan</td>\n",
       "      <td>AFG</td>\n",
       "      <td>2018</td>\n",
       "      <td>5.0023</td>\n",
       "    </tr>\n",
       "    <tr>\n",
       "      <th>69</th>\n",
       "      <td>Afghanistan</td>\n",
       "      <td>AFG</td>\n",
       "      <td>2019</td>\n",
       "      <td>4.8701</td>\n",
       "    </tr>\n",
       "  </tbody>\n",
       "</table>\n",
       "</div>"
      ],
      "text/plain": [
       "        Country Code  Year  Fertility rate\n",
       "65  Afghanistan  AFG  2015          5.4052\n",
       "66  Afghanistan  AFG  2016          5.2618\n",
       "67  Afghanistan  AFG  2017          5.1290\n",
       "68  Afghanistan  AFG  2018          5.0023\n",
       "69  Afghanistan  AFG  2019          4.8701"
      ]
     },
     "execution_count": 11,
     "metadata": {},
     "output_type": "execute_result"
    }
   ],
   "source": [
    "fertility_rate.head(5)"
   ]
  },
  {
   "cell_type": "markdown",
   "id": "50bac0bc",
   "metadata": {},
   "source": [
    "## Analyse data for hypothesis 1 "
   ]
  },
  {
   "cell_type": "markdown",
   "id": "86bfc32d",
   "metadata": {},
   "source": [
    "A new dataframe is created, it would store the data of countries that were in the top 20 of cost of living each year. It is done by setting a condition to the Rank column in cost of living dataframe, which is smaller than 21.In total there will be 120 data in the dataframe."
   ]
  },
  {
   "cell_type": "code",
   "execution_count": 12,
   "id": "78befc07",
   "metadata": {},
   "outputs": [
    {
     "data": {
      "text/html": [
       "<div>\n",
       "<style scoped>\n",
       "    .dataframe tbody tr th:only-of-type {\n",
       "        vertical-align: middle;\n",
       "    }\n",
       "\n",
       "    .dataframe tbody tr th {\n",
       "        vertical-align: top;\n",
       "    }\n",
       "\n",
       "    .dataframe thead th {\n",
       "        text-align: right;\n",
       "    }\n",
       "</style>\n",
       "<table border=\"1\" class=\"dataframe\">\n",
       "  <thead>\n",
       "    <tr style=\"text-align: right;\">\n",
       "      <th></th>\n",
       "      <th>Rank</th>\n",
       "      <th>Country</th>\n",
       "      <th>Cost of Living Index</th>\n",
       "      <th>Year</th>\n",
       "    </tr>\n",
       "  </thead>\n",
       "  <tbody>\n",
       "    <tr>\n",
       "      <th>0</th>\n",
       "      <td>1</td>\n",
       "      <td>Switzerland</td>\n",
       "      <td>126.0</td>\n",
       "      <td>2015</td>\n",
       "    </tr>\n",
       "    <tr>\n",
       "      <th>1</th>\n",
       "      <td>2</td>\n",
       "      <td>Norway</td>\n",
       "      <td>118.6</td>\n",
       "      <td>2015</td>\n",
       "    </tr>\n",
       "    <tr>\n",
       "      <th>2</th>\n",
       "      <td>3</td>\n",
       "      <td>Venezuela</td>\n",
       "      <td>111.0</td>\n",
       "      <td>2015</td>\n",
       "    </tr>\n",
       "    <tr>\n",
       "      <th>3</th>\n",
       "      <td>4</td>\n",
       "      <td>Iceland</td>\n",
       "      <td>102.1</td>\n",
       "      <td>2015</td>\n",
       "    </tr>\n",
       "    <tr>\n",
       "      <th>4</th>\n",
       "      <td>5</td>\n",
       "      <td>Denmark</td>\n",
       "      <td>100.6</td>\n",
       "      <td>2015</td>\n",
       "    </tr>\n",
       "    <tr>\n",
       "      <th>...</th>\n",
       "      <td>...</td>\n",
       "      <td>...</td>\n",
       "      <td>...</td>\n",
       "      <td>...</td>\n",
       "    </tr>\n",
       "    <tr>\n",
       "      <th>611</th>\n",
       "      <td>16</td>\n",
       "      <td>Australia</td>\n",
       "      <td>73.5</td>\n",
       "      <td>2020</td>\n",
       "    </tr>\n",
       "    <tr>\n",
       "      <th>612</th>\n",
       "      <td>17</td>\n",
       "      <td>New Zealand</td>\n",
       "      <td>72.5</td>\n",
       "      <td>2020</td>\n",
       "    </tr>\n",
       "    <tr>\n",
       "      <th>613</th>\n",
       "      <td>18</td>\n",
       "      <td>Belgium</td>\n",
       "      <td>71.8</td>\n",
       "      <td>2020</td>\n",
       "    </tr>\n",
       "    <tr>\n",
       "      <th>614</th>\n",
       "      <td>19</td>\n",
       "      <td>Seychelles</td>\n",
       "      <td>71.6</td>\n",
       "      <td>2020</td>\n",
       "    </tr>\n",
       "    <tr>\n",
       "      <th>615</th>\n",
       "      <td>20</td>\n",
       "      <td>United States</td>\n",
       "      <td>71.1</td>\n",
       "      <td>2020</td>\n",
       "    </tr>\n",
       "  </tbody>\n",
       "</table>\n",
       "<p>120 rows × 4 columns</p>\n",
       "</div>"
      ],
      "text/plain": [
       "     Rank        Country  Cost of Living Index  Year\n",
       "0       1    Switzerland                 126.0  2015\n",
       "1       2         Norway                 118.6  2015\n",
       "2       3      Venezuela                 111.0  2015\n",
       "3       4        Iceland                 102.1  2015\n",
       "4       5        Denmark                 100.6  2015\n",
       "..    ...            ...                   ...   ...\n",
       "611    16      Australia                  73.5  2020\n",
       "612    17    New Zealand                  72.5  2020\n",
       "613    18        Belgium                  71.8  2020\n",
       "614    19     Seychelles                  71.6  2020\n",
       "615    20  United States                  71.1  2020\n",
       "\n",
       "[120 rows x 4 columns]"
      ]
     },
     "metadata": {},
     "output_type": "display_data"
    }
   ],
   "source": [
    "top_20=pd.DataFrame(cost_of_living[cost_of_living['Rank']<21])\n",
    "top_20['Cost of Living Index']=pd.to_numeric(top_20['Cost of Living Index'])\n",
    "display(top_20)"
   ]
  },
  {
   "cell_type": "markdown",
   "id": "a849de0b",
   "metadata": {},
   "source": [
    "The baseline of the high cost of living country is set. The countries that were in the top 20 of the high cost of living yearly from 2015 to 2020 and they were in the top 20 ranked at least 5 times."
   ]
  },
  {
   "cell_type": "code",
   "execution_count": 13,
   "id": "d3417cf9",
   "metadata": {},
   "outputs": [
    {
     "data": {
      "text/html": [
       "<div>\n",
       "<style scoped>\n",
       "    .dataframe tbody tr th:only-of-type {\n",
       "        vertical-align: middle;\n",
       "    }\n",
       "\n",
       "    .dataframe tbody tr th {\n",
       "        vertical-align: top;\n",
       "    }\n",
       "\n",
       "    .dataframe thead th {\n",
       "        text-align: right;\n",
       "    }\n",
       "</style>\n",
       "<table border=\"1\" class=\"dataframe\">\n",
       "  <thead>\n",
       "    <tr style=\"text-align: right;\">\n",
       "      <th></th>\n",
       "      <th>Country</th>\n",
       "      <th>Count</th>\n",
       "    </tr>\n",
       "  </thead>\n",
       "  <tbody>\n",
       "    <tr>\n",
       "      <th>0</th>\n",
       "      <td>Switzerland</td>\n",
       "      <td>6</td>\n",
       "    </tr>\n",
       "    <tr>\n",
       "      <th>1</th>\n",
       "      <td>Luxembourg</td>\n",
       "      <td>6</td>\n",
       "    </tr>\n",
       "    <tr>\n",
       "      <th>2</th>\n",
       "      <td>Norway</td>\n",
       "      <td>6</td>\n",
       "    </tr>\n",
       "    <tr>\n",
       "      <th>3</th>\n",
       "      <td>Iceland</td>\n",
       "      <td>6</td>\n",
       "    </tr>\n",
       "    <tr>\n",
       "      <th>4</th>\n",
       "      <td>Denmark</td>\n",
       "      <td>6</td>\n",
       "    </tr>\n",
       "    <tr>\n",
       "      <th>5</th>\n",
       "      <td>Australia</td>\n",
       "      <td>6</td>\n",
       "    </tr>\n",
       "    <tr>\n",
       "      <th>6</th>\n",
       "      <td>New Zealand</td>\n",
       "      <td>6</td>\n",
       "    </tr>\n",
       "    <tr>\n",
       "      <th>7</th>\n",
       "      <td>Belgium</td>\n",
       "      <td>6</td>\n",
       "    </tr>\n",
       "    <tr>\n",
       "      <th>8</th>\n",
       "      <td>Ireland</td>\n",
       "      <td>6</td>\n",
       "    </tr>\n",
       "    <tr>\n",
       "      <th>9</th>\n",
       "      <td>France</td>\n",
       "      <td>5</td>\n",
       "    </tr>\n",
       "    <tr>\n",
       "      <th>10</th>\n",
       "      <td>Bahamas</td>\n",
       "      <td>5</td>\n",
       "    </tr>\n",
       "    <tr>\n",
       "      <th>11</th>\n",
       "      <td>Japan</td>\n",
       "      <td>5</td>\n",
       "    </tr>\n",
       "    <tr>\n",
       "      <th>12</th>\n",
       "      <td>South Korea</td>\n",
       "      <td>5</td>\n",
       "    </tr>\n",
       "    <tr>\n",
       "      <th>13</th>\n",
       "      <td>Singapore</td>\n",
       "      <td>5</td>\n",
       "    </tr>\n",
       "    <tr>\n",
       "      <th>14</th>\n",
       "      <td>Israel</td>\n",
       "      <td>5</td>\n",
       "    </tr>\n",
       "    <tr>\n",
       "      <th>15</th>\n",
       "      <td>Sweden</td>\n",
       "      <td>5</td>\n",
       "    </tr>\n",
       "    <tr>\n",
       "      <th>16</th>\n",
       "      <td>Hong Kong</td>\n",
       "      <td>4</td>\n",
       "    </tr>\n",
       "    <tr>\n",
       "      <th>17</th>\n",
       "      <td>Netherlands</td>\n",
       "      <td>4</td>\n",
       "    </tr>\n",
       "    <tr>\n",
       "      <th>18</th>\n",
       "      <td>Finland</td>\n",
       "      <td>4</td>\n",
       "    </tr>\n",
       "    <tr>\n",
       "      <th>19</th>\n",
       "      <td>Bermuda</td>\n",
       "      <td>3</td>\n",
       "    </tr>\n",
       "    <tr>\n",
       "      <th>20</th>\n",
       "      <td>United States</td>\n",
       "      <td>3</td>\n",
       "    </tr>\n",
       "    <tr>\n",
       "      <th>21</th>\n",
       "      <td>Italy</td>\n",
       "      <td>2</td>\n",
       "    </tr>\n",
       "    <tr>\n",
       "      <th>22</th>\n",
       "      <td>United Kingdom</td>\n",
       "      <td>2</td>\n",
       "    </tr>\n",
       "    <tr>\n",
       "      <th>23</th>\n",
       "      <td>Kuwait</td>\n",
       "      <td>2</td>\n",
       "    </tr>\n",
       "    <tr>\n",
       "      <th>24</th>\n",
       "      <td>Austria</td>\n",
       "      <td>2</td>\n",
       "    </tr>\n",
       "    <tr>\n",
       "      <th>25</th>\n",
       "      <td>Canada</td>\n",
       "      <td>1</td>\n",
       "    </tr>\n",
       "    <tr>\n",
       "      <th>26</th>\n",
       "      <td>Venezuela</td>\n",
       "      <td>1</td>\n",
       "    </tr>\n",
       "    <tr>\n",
       "      <th>27</th>\n",
       "      <td>Us Virgin Islands</td>\n",
       "      <td>1</td>\n",
       "    </tr>\n",
       "    <tr>\n",
       "      <th>28</th>\n",
       "      <td>Barbados</td>\n",
       "      <td>1</td>\n",
       "    </tr>\n",
       "    <tr>\n",
       "      <th>29</th>\n",
       "      <td>Seychelles</td>\n",
       "      <td>1</td>\n",
       "    </tr>\n",
       "  </tbody>\n",
       "</table>\n",
       "</div>"
      ],
      "text/plain": [
       "              Country  Count\n",
       "0         Switzerland      6\n",
       "1          Luxembourg      6\n",
       "2              Norway      6\n",
       "3             Iceland      6\n",
       "4             Denmark      6\n",
       "5           Australia      6\n",
       "6         New Zealand      6\n",
       "7             Belgium      6\n",
       "8             Ireland      6\n",
       "9              France      5\n",
       "10            Bahamas      5\n",
       "11              Japan      5\n",
       "12        South Korea      5\n",
       "13          Singapore      5\n",
       "14             Israel      5\n",
       "15             Sweden      5\n",
       "16          Hong Kong      4\n",
       "17        Netherlands      4\n",
       "18            Finland      4\n",
       "19            Bermuda      3\n",
       "20      United States      3\n",
       "21              Italy      2\n",
       "22     United Kingdom      2\n",
       "23             Kuwait      2\n",
       "24            Austria      2\n",
       "25             Canada      1\n",
       "26          Venezuela      1\n",
       "27  Us Virgin Islands      1\n",
       "28           Barbados      1\n",
       "29         Seychelles      1"
      ]
     },
     "metadata": {},
     "output_type": "display_data"
    }
   ],
   "source": [
    "freq_table = top_20.Country.value_counts().reset_index()\n",
    "freq_table.rename(columns={'Country':'Count','index':'Country'}, inplace = True)\n",
    "display(freq_table)"
   ]
  },
  {
   "cell_type": "code",
   "execution_count": 14,
   "id": "9e6db163",
   "metadata": {},
   "outputs": [
    {
     "data": {
      "text/html": [
       "<div>\n",
       "<style scoped>\n",
       "    .dataframe tbody tr th:only-of-type {\n",
       "        vertical-align: middle;\n",
       "    }\n",
       "\n",
       "    .dataframe tbody tr th {\n",
       "        vertical-align: top;\n",
       "    }\n",
       "\n",
       "    .dataframe thead th {\n",
       "        text-align: right;\n",
       "    }\n",
       "</style>\n",
       "<table border=\"1\" class=\"dataframe\">\n",
       "  <thead>\n",
       "    <tr style=\"text-align: right;\">\n",
       "      <th></th>\n",
       "      <th>Country</th>\n",
       "      <th>Count</th>\n",
       "    </tr>\n",
       "  </thead>\n",
       "  <tbody>\n",
       "    <tr>\n",
       "      <th>0</th>\n",
       "      <td>Switzerland</td>\n",
       "      <td>6</td>\n",
       "    </tr>\n",
       "    <tr>\n",
       "      <th>1</th>\n",
       "      <td>Luxembourg</td>\n",
       "      <td>6</td>\n",
       "    </tr>\n",
       "    <tr>\n",
       "      <th>2</th>\n",
       "      <td>Norway</td>\n",
       "      <td>6</td>\n",
       "    </tr>\n",
       "    <tr>\n",
       "      <th>3</th>\n",
       "      <td>Iceland</td>\n",
       "      <td>6</td>\n",
       "    </tr>\n",
       "    <tr>\n",
       "      <th>4</th>\n",
       "      <td>Denmark</td>\n",
       "      <td>6</td>\n",
       "    </tr>\n",
       "    <tr>\n",
       "      <th>5</th>\n",
       "      <td>Australia</td>\n",
       "      <td>6</td>\n",
       "    </tr>\n",
       "    <tr>\n",
       "      <th>6</th>\n",
       "      <td>New Zealand</td>\n",
       "      <td>6</td>\n",
       "    </tr>\n",
       "    <tr>\n",
       "      <th>7</th>\n",
       "      <td>Belgium</td>\n",
       "      <td>6</td>\n",
       "    </tr>\n",
       "    <tr>\n",
       "      <th>8</th>\n",
       "      <td>Ireland</td>\n",
       "      <td>6</td>\n",
       "    </tr>\n",
       "    <tr>\n",
       "      <th>9</th>\n",
       "      <td>France</td>\n",
       "      <td>5</td>\n",
       "    </tr>\n",
       "    <tr>\n",
       "      <th>10</th>\n",
       "      <td>Bahamas</td>\n",
       "      <td>5</td>\n",
       "    </tr>\n",
       "    <tr>\n",
       "      <th>11</th>\n",
       "      <td>Japan</td>\n",
       "      <td>5</td>\n",
       "    </tr>\n",
       "    <tr>\n",
       "      <th>12</th>\n",
       "      <td>South Korea</td>\n",
       "      <td>5</td>\n",
       "    </tr>\n",
       "    <tr>\n",
       "      <th>13</th>\n",
       "      <td>Singapore</td>\n",
       "      <td>5</td>\n",
       "    </tr>\n",
       "    <tr>\n",
       "      <th>14</th>\n",
       "      <td>Israel</td>\n",
       "      <td>5</td>\n",
       "    </tr>\n",
       "    <tr>\n",
       "      <th>15</th>\n",
       "      <td>Sweden</td>\n",
       "      <td>5</td>\n",
       "    </tr>\n",
       "  </tbody>\n",
       "</table>\n",
       "</div>"
      ],
      "text/plain": [
       "        Country  Count\n",
       "0   Switzerland      6\n",
       "1    Luxembourg      6\n",
       "2        Norway      6\n",
       "3       Iceland      6\n",
       "4       Denmark      6\n",
       "5     Australia      6\n",
       "6   New Zealand      6\n",
       "7       Belgium      6\n",
       "8       Ireland      6\n",
       "9        France      5\n",
       "10      Bahamas      5\n",
       "11        Japan      5\n",
       "12  South Korea      5\n",
       "13    Singapore      5\n",
       "14       Israel      5\n",
       "15       Sweden      5"
      ]
     },
     "metadata": {},
     "output_type": "display_data"
    }
   ],
   "source": [
    "freq_table=freq_table[freq_table['Count']>4]\n",
    "display(freq_table)"
   ]
  },
  {
   "cell_type": "markdown",
   "id": "3202ddaa",
   "metadata": {},
   "source": [
    "These 16 countries shown above are the countries that met the baseline of the high cost of living. The countries that were in the top 20 of the high cost of living yearly from 2015 to 2020 at least 5 times. "
   ]
  },
  {
   "cell_type": "markdown",
   "id": "e1aa0dc5",
   "metadata": {},
   "source": []
  },
  {
   "cell_type": "markdown",
   "id": "da3fa07a",
   "metadata": {},
   "source": [
    "\n",
    "A high_df dataframe is created by merging freq_table, fertility_rate, and cost_of_living dataframes based on the column Country for future use. This dataframe is to store both of fertility rate and the cost of living index of countries."
   ]
  },
  {
   "cell_type": "code",
   "execution_count": 15,
   "id": "6c495d4a",
   "metadata": {},
   "outputs": [
    {
     "name": "stdout",
     "output_type": "stream",
     "text": [
      "|    | Country     |   Count |   Year |   Fertility rate |   Cost of Living Index |\n",
      "|---:|:------------|--------:|-------:|-----------------:|-----------------------:|\n",
      "|  0 | Switzerland |       6 |   2015 |           1.5417 |                  126   |\n",
      "|  1 | Switzerland |       6 |   2016 |           1.5428 |                  123.1 |\n",
      "|  2 | Switzerland |       6 |   2017 |           1.521  |                  122.1 |\n",
      "|  3 | Switzerland |       6 |   2018 |           1.5149 |                  131.4 |\n",
      "|  4 | Switzerland |       6 |   2019 |           1.4875 |                  121.2 |\n",
      "|  5 | Switzerland |       6 |   2020 |           1.4917 |                  122.4 |\n",
      "|  6 | Luxembourg  |       6 |   2015 |           1.4642 |                   91.8 |\n",
      "|  7 | Luxembourg  |       6 |   2016 |           1.414  |                   82   |\n",
      "|  8 | Luxembourg  |       6 |   2017 |           1.3939 |                   77.3 |\n",
      "|  9 | Luxembourg  |       6 |   2018 |           1.381  |                   96.6 |\n",
      "| 10 | Luxembourg  |       6 |   2019 |           1.3483 |                   86.1 |\n",
      "| 11 | Luxembourg  |       6 |   2020 |           1.379  |                   81.9 |\n",
      "| 12 | Norway      |       6 |   2015 |           1.7273 |                  118.6 |\n",
      "| 13 | Norway      |       6 |   2016 |           1.7046 |                   99.8 |\n",
      "| 14 | Norway      |       6 |   2017 |           1.625  |                  106.3 |\n",
      "| 15 | Norway      |       6 |   2018 |           1.5677 |                  113.7 |\n",
      "| 16 | Norway      |       6 |   2019 |           1.5369 |                  101   |\n",
      "| 17 | Norway      |       6 |   2020 |           1.4988 |                  101.4 |\n",
      "| 18 | Iceland     |       6 |   2015 |           1.8083 |                  102.1 |\n",
      "| 19 | Iceland     |       6 |   2016 |           1.7452 |                   96.5 |\n",
      "| 20 | Iceland     |       6 |   2017 |           1.7115 |                  111.7 |\n",
      "| 21 | Iceland     |       6 |   2018 |           1.7128 |                  124   |\n",
      "| 22 | Iceland     |       6 |   2019 |           1.7464 |                  101.9 |\n",
      "| 23 | Iceland     |       6 |   2020 |           1.7449 |                  100.5 |\n",
      "| 24 | Denmark     |       6 |   2015 |           1.7148 |                  100.6 |\n",
      "| 25 | Denmark     |       6 |   2016 |           1.7773 |                   84.9 |\n",
      "| 26 | Denmark     |       6 |   2017 |           1.7469 |                   83   |\n",
      "| 27 | Denmark     |       6 |   2018 |           1.7277 |                   93.3 |\n",
      "| 28 | Denmark     |       6 |   2019 |           1.7004 |                   81.4 |\n",
      "| 29 | Denmark     |       6 |   2020 |           1.6991 |                   83   |\n",
      "| 30 | Australia   |       6 |   2015 |           1.8104 |                   99.3 |\n",
      "| 31 | Australia   |       6 |   2016 |           1.7996 |                   78.5 |\n",
      "| 32 | Australia   |       6 |   2017 |           1.7745 |                   80.7 |\n",
      "| 33 | Australia   |       6 |   2018 |           1.7853 |                   84.3 |\n",
      "| 34 | Australia   |       6 |   2019 |           1.67   |                   72.1 |\n",
      "| 35 | Australia   |       6 |   2020 |           1.594  |                   73.5 |\n",
      "| 36 | New Zealand |       6 |   2015 |           1.9838 |                   93.7 |\n",
      "| 37 | New Zealand |       6 |   2016 |           1.8815 |                   78.2 |\n",
      "| 38 | New Zealand |       6 |   2017 |           1.892  |                   80.8 |\n",
      "| 39 | New Zealand |       6 |   2018 |           1.729  |                   83.4 |\n",
      "| 40 | New Zealand |       6 |   2019 |           1.854  |                   72.6 |\n",
      "| 41 | New Zealand |       6 |   2020 |           1.7902 |                   72.5 |\n",
      "| 42 | Belgium     |       6 |   2015 |           1.6986 |                   87.2 |\n",
      "| 43 | Belgium     |       6 |   2016 |           1.6835 |                   75.4 |\n",
      "| 44 | Belgium     |       6 |   2017 |           1.6489 |                   75.4 |\n",
      "| 45 | Belgium     |       6 |   2018 |           1.6215 |                   83.3 |\n",
      "| 46 | Belgium     |       6 |   2019 |           1.5871 |                   73   |\n",
      "| 47 | Belgium     |       6 |   2020 |           1.5652 |                   71.8 |\n",
      "| 48 | Ireland     |       6 |   2015 |           1.8571 |                   92.1 |\n",
      "| 49 | Ireland     |       6 |   2016 |           1.809  |                   78   |\n",
      "| 50 | Ireland     |       6 |   2017 |           1.7722 |                   77   |\n",
      "| 51 | Ireland     |       6 |   2018 |           1.8056 |                   85.4 |\n",
      "| 52 | Ireland     |       6 |   2019 |           1.7768 |                   75.3 |\n",
      "| 53 | Ireland     |       6 |   2020 |           1.7723 |                   75.9 |\n",
      "| 54 | France      |       5 |   2015 |           1.9268 |                   88.4 |\n",
      "| 55 | France      |       5 |   2016 |           1.8911 |                   75.3 |\n",
      "| 56 | France      |       5 |   2017 |           1.861  |                   74.9 |\n",
      "| 57 | France      |       5 |   2018 |           1.8428 |                   83.9 |\n",
      "| 58 | France      |       5 |   2019 |           1.83   |                   74.9 |\n",
      "| 59 | France      |       5 |   2020 |           1.7907 |                   74.1 |\n",
      "| 60 | Bahamas     |       5 |   2016 |           1.4956 |                  107.5 |\n",
      "| 61 | Bahamas     |       5 |   2017 |           1.4263 |                  104   |\n",
      "| 62 | Bahamas     |       5 |   2018 |           1.4117 |                  100.7 |\n",
      "| 63 | Bahamas     |       5 |   2019 |           1.3979 |                   92.4 |\n",
      "| 64 | Bahamas     |       5 |   2020 |           1.3941 |                   82.5 |\n",
      "| 65 | Japan       |       5 |   2015 |           1.4438 |                   80.4 |\n",
      "| 66 | Japan       |       5 |   2016 |           1.4325 |                   81.3 |\n",
      "| 67 | Japan       |       5 |   2017 |           1.3544 |                   85.3 |\n",
      "| 68 | Japan       |       5 |   2018 |           1.3338 |                   86.6 |\n",
      "| 69 | Japan       |       5 |   2019 |           1.2859 |                   83.3 |\n",
      "| 70 | Japan       |       5 |   2020 |           1.2936 |                   83.3 |\n",
      "| 71 | South Korea |       5 |   2015 |           1.2028 |                   82.9 |\n",
      "| 72 | South Korea |       5 |   2016 |           1.1468 |                   73.2 |\n",
      "| 73 | South Korea |       5 |   2017 |           1.0513 |                   75.4 |\n",
      "| 74 | South Korea |       5 |   2018 |           0.97   |                   82.9 |\n",
      "| 75 | South Korea |       5 |   2019 |           0.9141 |                   76.9 |\n",
      "| 76 | South Korea |       5 |   2020 |           0.8872 |                   78.2 |\n",
      "| 77 | Singapore   |       5 |   2015 |           1.2248 |                   93.6 |\n",
      "| 78 | Singapore   |       5 |   2016 |           0.9974 |                   83.7 |\n",
      "| 79 | Singapore   |       5 |   2017 |           0.9542 |                   82.4 |\n",
      "| 80 | Singapore   |       5 |   2018 |           0.9455 |                   91.4 |\n",
      "| 81 | Singapore   |       5 |   2019 |           0.9621 |                   69.8 |\n",
      "| 82 | Singapore   |       5 |   2020 |           0.9957 |                   81.1 |\n",
      "| 83 | Israel      |       5 |   2015 |           3.2484 |                   79.3 |\n",
      "| 84 | Israel      |       5 |   2016 |           3.2779 |                   75.7 |\n",
      "| 85 | Israel      |       5 |   2017 |           3.1143 |                   77.7 |\n",
      "| 86 | Israel      |       5 |   2018 |           3.0924 |                   86.5 |\n",
      "| 87 | Israel      |       5 |   2019 |           3.2151 |                   74.3 |\n",
      "| 88 | Israel      |       5 |   2020 |           3.0266 |                   81.2 |\n",
      "| 89 | Sweden      |       5 |   2015 |           1.8494 |                   82.9 |\n",
      "| 90 | Sweden      |       5 |   2016 |           1.848  |                   75.7 |\n",
      "| 91 | Sweden      |       5 |   2017 |           1.7859 |                   75.9 |\n",
      "| 92 | Sweden      |       5 |   2018 |           1.7559 |                   83.7 |\n",
      "| 93 | Sweden      |       5 |   2019 |           1.7173 |                   71.6 |\n",
      "| 94 | Sweden      |       5 |   2020 |           1.6703 |                   69.8 |\n"
     ]
    }
   ],
   "source": [
    "high_df =pd.merge(pd.merge(freq_table, fertility_rate,on='Country'),cost_of_living,on=['Country','Year'])\n",
    "\n",
    "high_df = high_df.drop('Rank', axis=1)\n",
    "high_df = high_df.drop('Code', axis=1)\n",
    "high_df['Cost of Living Index'] = high_df['Cost of Living Index'].astype(float)\n",
    " \n",
    "print(high_df.to_markdown())"
   ]
  },
  {
   "cell_type": "markdown",
   "id": "63110f2e",
   "metadata": {},
   "source": [
    "A bar graph is to be drawn with the data in the high_df dataframe. The bar graph drawn would show the fertility rate of countries in that specific year with an average line to show the average fertility rate of that year. Allows to compare the average fertility rate and the country's fertility rate for that year. "
   ]
  },
  {
   "cell_type": "code",
   "execution_count": 16,
   "id": "dfe080d5",
   "metadata": {},
   "outputs": [
    {
     "data": {
      "text/plain": [
       "2.670492827004219"
      ]
     },
     "metadata": {},
     "output_type": "display_data"
    },
    {
     "data": {
      "text/plain": [
       "2.634531223628692"
      ]
     },
     "metadata": {},
     "output_type": "display_data"
    },
    {
     "data": {
      "text/plain": [
       "2.5877392405063295"
      ]
     },
     "metadata": {},
     "output_type": "display_data"
    },
    {
     "data": {
      "text/plain": [
       "2.5496691983122366"
      ]
     },
     "metadata": {},
     "output_type": "display_data"
    },
    {
     "data": {
      "text/plain": [
       "2.5160729957805907"
      ]
     },
     "metadata": {},
     "output_type": "display_data"
    },
    {
     "data": {
      "text/plain": [
       "2.4827194092827005"
      ]
     },
     "metadata": {},
     "output_type": "display_data"
    },
    {
     "data": {
      "image/png": "[encoded data removed]",
      "text/plain": [
       "<Figure size 1200x800 with 6 Axes>"
      ]
     },
     "metadata": {},
     "output_type": "display_data"
    }
   ],
   "source": [
    "# drawing barplot\n",
    "g = sns.FacetGrid(high_df, col=\"Year\",height=4, aspect=1,col_wrap=3)\n",
    "g.map_dataframe(sns.barplot, x=\"Fertility rate\",y=\"Country\")\n",
    "\n",
    "#ploting average line \n",
    "for m,ax in zip(fertility_rate.groupby('Year')['Fertility rate'].mean(), g.axes.ravel()):\n",
    "    ax.vlines(m, 0, 15,color='orange',linestyles='dashed',lw=2,label=m)\n",
    "    display(m)\n",
    "plt.show()"
   ]
  },
  {
   "cell_type": "markdown",
   "id": "6d2b4388",
   "metadata": {},
   "source": [
    "The graph above is to show the countries with a high cost of living and their fertility rate compared to the average fertility rate of the world in that year.\n",
    "\n",
    "The first hypothesis of this project was, all the countries with a high cost of living have low fertility rates. Most of the countries with a high cost of living had fertility rates lower than the average fertility rate. However, Israel had high fertility rate than the average fertility rate even though the cost of living is high. If Israel is given an exception the hypothesis is to be true. But as the hypothesis indicates ALL the countries with a high cost of living, and not all of the 16 countries had low fertility rates. Therefore, the first hypothesis is false.\n",
    "\n",
    "The country Israel has a high fertility rate despite having a high cost of living, this indicates that the fertility rate has a stronger correlation to other factors other than the cost of living. As mentioned in the background,\n",
    "<ul>\n",
    "    <li>Women’s empowerment, particularly in education and the workforce</li>\n",
    "    <li>Lower child mortality</li>\n",
    "    <li>Increased cost to raising children</li>\n",
    "</ul>\n",
    "These factors may be the factors that have a stronger correlation to the fertility rate."
   ]
  },
  {
   "cell_type": "markdown",
   "id": "90752ac6",
   "metadata": {},
   "source": [
    "For further review, the same bar chart is plotted for countries with low cost of living. All the steps done are exactly the same as the bar graph for the high cost of living countries. The only change made was instead of countries in the top 20 of the high cost of living, the countries that were not in the top 100 were selected. Then the countries that met the baseline of the low cost of living have been used for plotting bar graphs.\n",
    "\n",
    "As the hypothesis is that all the countries with a high cost of living have low fertility rates, based on this, the countries with a low cost of living should have high fertility rates. To see whether or not these low living expenses countries really have high fertility rates the following bar graph is drawn.  "
   ]
  },
  {
   "cell_type": "code",
   "execution_count": 17,
   "id": "f9eb776d",
   "metadata": {},
   "outputs": [
    {
     "data": {
      "image/png": "[encoded data removed]",
      "text/plain": [
       "<Figure size 1200x800 with 6 Axes>"
      ]
     },
     "metadata": {},
     "output_type": "display_data"
    }
   ],
   "source": [
    "#creating dataframe for data of countries with low cost of living.Countries that are not in top 100 of high cost of living \n",
    "low_costofliving=pd.DataFrame(cost_of_living[cost_of_living['Rank']>100])\n",
    "#frequency table created for low_costofliving dataframe\n",
    "freq_table_low= low_costofliving.Country.value_counts().reset_index()\n",
    "freq_table_low.rename(columns={'Country':'Count','index':'Country'}, inplace = True)\n",
    "\n",
    "#getting the countries that had not been in top 100 of high cost of living yearly from 2015 to 2020\n",
    "freq_table_low=freq_table_low[freq_table_low['Count']>4]\n",
    "#merging freq_table_low with fertility rate and cost of living dataframes\n",
    "low_df =pd.merge(pd.merge(freq_table_low, fertility_rate,on='Country'),cost_of_living,on=['Country','Year'])\n",
    "\n",
    "# drawing barplot\n",
    "g = sns.FacetGrid(low_df, col=\"Year\",height=4, aspect=1,col_wrap=3)\n",
    "g.map_dataframe(sns.barplot, x=\"Fertility rate\",y=\"Country\",color='green')\n",
    "#ploting average line \n",
    "for m,ax in zip(fertility_rate.groupby('Year')['Fertility rate'].mean(), g.axes.ravel()):\n",
    "    ax.vlines(m, 0, 12,color='orange',linestyles='dashed',lw=2,label=m)\n",
    "plt.show()\n"
   ]
  },
  {
   "cell_type": "markdown",
   "id": "90d500a3",
   "metadata": {},
   "source": [
    "According to the hypothesis, all the countries with a high cost of living have low fertility rates so the countries with a low cost of living should have high fertility rates. But as the graph shows, the countries of low living exppenses do not have high fertility rate than the average fertility rate. This gives more support to the side that the hypothesis is false. "
   ]
  },
  {
   "cell_type": "markdown",
   "id": "225d97d2",
   "metadata": {},
   "source": [
    "## Analyse data for hypothesis 2"
   ]
  },
  {
   "cell_type": "markdown",
   "id": "d7d9bcd4",
   "metadata": {},
   "source": [
    "The second hypothesis is, fertility rate and living expenses correlate with each other"
   ]
  },
  {
   "cell_type": "code",
   "execution_count": 18,
   "id": "5f5aff8b",
   "metadata": {},
   "outputs": [
    {
     "name": "stdout",
     "output_type": "stream",
     "text": [
      "<class 'pandas.core.frame.DataFrame'>\n",
      "Int64Index: 705 entries, 0 to 704\n",
      "Data columns (total 6 columns):\n",
      " #   Column                Non-Null Count  Dtype  \n",
      "---  ------                --------------  -----  \n",
      " 0   Rank                  705 non-null    object \n",
      " 1   Year                  705 non-null    int64  \n",
      " 2   Country               705 non-null    object \n",
      " 3   Code                  705 non-null    object \n",
      " 4   Cost of Living Index  705 non-null    float64\n",
      " 5   Fertility rate        705 non-null    float64\n",
      "dtypes: float64(2), int64(1), object(3)\n",
      "memory usage: 38.6+ KB\n"
     ]
    }
   ],
   "source": [
    "total_df =pd.merge(cost_of_living, fertility_rate,on=['Country','Year'])\n",
    "total_df = total_df.reindex(columns=['Rank','Year','Country','Code', 'Cost of Living Index', 'Fertility rate'])\n",
    "total_df['Rank'] = total_df['Rank'].apply(str)\n",
    "total_df['Cost of Living Index'] =total_df ['Cost of Living Index'].astype(float)\n",
    "total_df.info()"
   ]
  },
  {
   "cell_type": "code",
   "execution_count": 19,
   "id": "e874332b",
   "metadata": {},
   "outputs": [
    {
     "name": "stderr",
     "output_type": "stream",
     "text": [
      "/var/folders/kj/q2sksvq90yvf43l2qw13x0x80000gn/T/ipykernel_77280/1640199741.py:1: FutureWarning: The default value of numeric_only in DataFrame.corr is deprecated. In a future version, it will default to False. Select only valid columns or specify the value of numeric_only to silence this warning.\n",
      "  display(total_df.corr())\n"
     ]
    },
    {
     "data": {
      "text/html": [
       "<div>\n",
       "<style scoped>\n",
       "    .dataframe tbody tr th:only-of-type {\n",
       "        vertical-align: middle;\n",
       "    }\n",
       "\n",
       "    .dataframe tbody tr th {\n",
       "        vertical-align: top;\n",
       "    }\n",
       "\n",
       "    .dataframe thead th {\n",
       "        text-align: right;\n",
       "    }\n",
       "</style>\n",
       "<table border=\"1\" class=\"dataframe\">\n",
       "  <thead>\n",
       "    <tr style=\"text-align: right;\">\n",
       "      <th></th>\n",
       "      <th>Year</th>\n",
       "      <th>Cost of Living Index</th>\n",
       "      <th>Fertility rate</th>\n",
       "    </tr>\n",
       "  </thead>\n",
       "  <tbody>\n",
       "    <tr>\n",
       "      <th>Year</th>\n",
       "      <td>1.000000</td>\n",
       "      <td>-0.148131</td>\n",
       "      <td>-0.048277</td>\n",
       "    </tr>\n",
       "    <tr>\n",
       "      <th>Cost of Living Index</th>\n",
       "      <td>-0.148131</td>\n",
       "      <td>1.000000</td>\n",
       "      <td>-0.316545</td>\n",
       "    </tr>\n",
       "    <tr>\n",
       "      <th>Fertility rate</th>\n",
       "      <td>-0.048277</td>\n",
       "      <td>-0.316545</td>\n",
       "      <td>1.000000</td>\n",
       "    </tr>\n",
       "  </tbody>\n",
       "</table>\n",
       "</div>"
      ],
      "text/plain": [
       "                          Year  Cost of Living Index  Fertility rate\n",
       "Year                  1.000000             -0.148131       -0.048277\n",
       "Cost of Living Index -0.148131              1.000000       -0.316545\n",
       "Fertility rate       -0.048277             -0.316545        1.000000"
      ]
     },
     "metadata": {},
     "output_type": "display_data"
    }
   ],
   "source": [
    "display(total_df.corr())"
   ]
  },
  {
   "cell_type": "code",
   "execution_count": 20,
   "id": "a55801c5",
   "metadata": {
    "scrolled": true
   },
   "outputs": [
    {
     "name": "stderr",
     "output_type": "stream",
     "text": [
      "/var/folders/kj/q2sksvq90yvf43l2qw13x0x80000gn/T/ipykernel_77280/731631696.py:1: FutureWarning: The default value of numeric_only in DataFrame.corr is deprecated. In a future version, it will default to False. Select only valid columns or specify the value of numeric_only to silence this warning.\n",
      "  sns.heatmap(total_df.corr(),annot = True, cmap= 'coolwarm')\n"
     ]
    },
    {
     "data": {
      "image/png": "[encoded data removed]",
      "text/plain": [
       "<Figure size 640x480 with 2 Axes>"
      ]
     },
     "metadata": {},
     "output_type": "display_data"
    }
   ],
   "source": [
    "sns.heatmap(total_df.corr(),annot = True, cmap= 'coolwarm')\n",
    "plt.show()"
   ]
  },
  {
   "cell_type": "markdown",
   "id": "b6ff9b59",
   "metadata": {},
   "source": [
    "The second hypothesis was that the fertility rate has a correlation to the cost of living.  According to the heatmap above, the Fertility rate has a correlation of -0.32 with Life expectancy. The value -0.32 is not considered a strong negative correlation. Hence, this concludes that their Fertility rate correlates to the cost of living, but the correlation is not strong. "
   ]
  },
  {
   "cell_type": "markdown",
   "id": "54c4571d",
   "metadata": {},
   "source": [
    "## Conclusion: "
   ]
  },
  {
   "cell_type": "markdown",
   "id": "0407d154",
   "metadata": {},
   "source": [
    "The first hypothesis is concluded to be false. The countries with a high cost of living are most likely to have low fertility rates but not all countries have low fertility rates. The country Israel had a high fertility rate despite having a high cost of living.\n",
    "\n",
    "The second hypothesis is proven true. Fertility rate and living expenses have a correlation with each other. They have a negative correlation with each other, as the living expenses increase the fertility rate decreases."
   ]
  },
  {
   "cell_type": "markdown",
   "id": "70e2faae",
   "metadata": {},
   "source": [
    "## References: "
   ]
  },
  {
   "cell_type": "markdown",
   "id": "1a4e2512",
   "metadata": {},
   "source": [
    "Bae, G. and Yeung, J. (2022) South Korea Records world's lowest fertility rate -- again, CNN. Cable News Network. Retrieved from: https://edition.cnn.com/2022/08/26/asia/south-korea-worlds-lowest-fertility-rate-intl-hnk/index.html .\n",
    "<br>\n",
    "<br>\n",
    "Max Roser (2014) - \"Fertility Rate\". Published online at OurWorldInData.org. Retrieved from: 'https://ourworldindata.org/fertility-rate' [Online Resource]\n",
    "<br>\n",
    "<br>\n",
    "Cost of Living Index by Country 2022 Mid-Year. (n.d.). Retrieved from: https://www.numbeo.com/cost-of-living/rankings_by_country.jsp?\n",
    "<br>\n",
    "<br>\n",
    "seaborn.FacetGrid — seaborn 0.12.1 documentation. (n.d.).Retrieved from:  https://seaborn.pydata.org/generated/seaborn.FacetGrid.html\n",
    "<br>\n",
    "<br>\n",
    "pandas. (n.d.). DataFrame — pandas 1.4.3 documentation. Retrieved from :https://pandas.pydata.org/docs/reference/frame.html\n",
    "<br>\n",
    "<br>\n",
    "GeeksforGeeks. (2020, February 29). Pandas Tutorial. Retrieved from: https://www.geeksforgeeks.org/pandas-tutorial/?ref=lbp\n",
    "<br>\n",
    "<br>\n",
    "Mao, B. F. (2022, August 25). South Korea records world’s lowest fertility rate again. BBC News. Retrieved from: https://www.bbc.com/news/world-asia-62670717\n",
    "<br>\n",
    "<br>\n",
    "Alvarez, P. (2022, June 17) What does the global decline of the fertility rate look like?, World Economic Forum. Retrieved from: https://www.weforum.org/agenda/2022/06/global-decline-of-fertility-rates-visualised/#:~:text=For%20the%20last%2070%20years,increased%20cost%20of%20raising%20children.\n",
    "\n",
    " "
   ]
  },
  {
   "cell_type": "code",
   "execution_count": 21,
   "id": "acb17857",
   "metadata": {},
   "outputs": [
    {
     "name": "stdout",
     "output_type": "stream",
     "text": [
      "\n",
      "Note: you may need to restart the kernel to use updated packages.\n"
     ]
    }
   ],
   "source": [
    "conda list -e > requirements.txt"
   ]
  },
  {
   "cell_type": "code",
   "execution_count": null,
   "id": "939d75bd",
   "metadata": {},
   "outputs": [],
   "source": []
  },
  {
   "cell_type": "code",
   "execution_count": null,
   "id": "73a629ce",
   "metadata": {},
   "outputs": [],
   "source": []
  }
 ],
 "metadata": {
  "kernelspec": {
   "display_name": "Python 3 (ipykernel)",
   "language": "python",
   "name": "python3"
  },
  "language_info": {
   "codemirror_mode": {
    "name": "ipython",
    "version": 3
   },
   "file_extension": ".py",
   "mimetype": "text/x-python",
   "name": "python",
   "nbconvert_exporter": "python",
   "pygments_lexer": "ipython3",
   "version": "3.10.9"
  }
 },
 "nbformat": 4,
 "nbformat_minor": 5
}
